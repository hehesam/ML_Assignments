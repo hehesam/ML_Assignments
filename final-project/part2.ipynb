{
 "cells": [
  {
   "cell_type": "markdown",
   "metadata": {},
   "source": [
    "### Machine Learning Project Part 2\n",
    "#### Bahaar Khalilian and Hesam Mohebi\n",
    "##### For the complete analysis of the project please check the report attached"
   ]
  },
  {
   "cell_type": "markdown",
   "metadata": {},
   "source": [
    "##### First, we need to understand our task and what kind of model we want to use. So what we do is to load the training data and by analysing its properties, we can find out the type of solution we must implement."
   ]
  },
  {
   "cell_type": "code",
   "execution_count": 20,
   "metadata": {},
   "outputs": [
    {
     "name": "stdout",
     "output_type": "stream",
     "text": [
      "Shape: (5200, 11), Data type: float64\n",
      "Shape: (5200, 1), Data type: int64\n"
     ]
    }
   ],
   "source": [
    "import numpy as np\n",
    "import pandas as pd\n",
    "import matplotlib.pyplot as plt\n",
    "from tqdm import tqdm\n",
    "from sklearn.preprocessing import OneHotEncoder, StandardScaler\n",
    "from scipy.special import softmax\n",
    "import scipy.spatial\n",
    "# Specifying the path to the data files.\n",
    "file_path1 = \"training_X.npy\"\n",
    "file_path2 = \"training_Y.npy\"\n",
    "\n",
    "# Loading them into a NumPy array\n",
    "X = np.load(file_path1)\n",
    "Y = np.load(file_path2)\n",
    "\n",
    "# Printing the shape and type of the loaded array\n",
    "print(f\"Shape: {X.shape}, Data type: {X.dtype}\")\n",
    "print(f\"Shape: {Y.shape}, Data type: {Y.dtype}\")\n"
   ]
  },
  {
   "cell_type": "markdown",
   "metadata": {},
   "source": [
    "### The training data icludes 5200 samples and 11 features"
   ]
  },
  {
   "cell_type": "code",
   "execution_count": 21,
   "metadata": {},
   "outputs": [
    {
     "data": {
      "text/html": [
       "<div>\n",
       "<style scoped>\n",
       "    .dataframe tbody tr th:only-of-type {\n",
       "        vertical-align: middle;\n",
       "    }\n",
       "\n",
       "    .dataframe tbody tr th {\n",
       "        vertical-align: top;\n",
       "    }\n",
       "\n",
       "    .dataframe thead th {\n",
       "        text-align: right;\n",
       "    }\n",
       "</style>\n",
       "<table border=\"1\" class=\"dataframe\">\n",
       "  <thead>\n",
       "    <tr style=\"text-align: right;\">\n",
       "      <th></th>\n",
       "      <th>0</th>\n",
       "      <th>1</th>\n",
       "      <th>2</th>\n",
       "      <th>3</th>\n",
       "      <th>4</th>\n",
       "      <th>5</th>\n",
       "      <th>6</th>\n",
       "      <th>7</th>\n",
       "      <th>8</th>\n",
       "      <th>9</th>\n",
       "      <th>10</th>\n",
       "    </tr>\n",
       "  </thead>\n",
       "  <tbody>\n",
       "    <tr>\n",
       "      <th>0</th>\n",
       "      <td>7.0</td>\n",
       "      <td>0.23</td>\n",
       "      <td>0.42</td>\n",
       "      <td>18.05</td>\n",
       "      <td>0.050</td>\n",
       "      <td>35.0</td>\n",
       "      <td>144.0</td>\n",
       "      <td>0.99990</td>\n",
       "      <td>3.22</td>\n",
       "      <td>0.42</td>\n",
       "      <td>8.8</td>\n",
       "    </tr>\n",
       "    <tr>\n",
       "      <th>1</th>\n",
       "      <td>8.3</td>\n",
       "      <td>0.33</td>\n",
       "      <td>0.43</td>\n",
       "      <td>9.20</td>\n",
       "      <td>0.046</td>\n",
       "      <td>22.0</td>\n",
       "      <td>126.0</td>\n",
       "      <td>0.99820</td>\n",
       "      <td>3.38</td>\n",
       "      <td>0.47</td>\n",
       "      <td>9.3</td>\n",
       "    </tr>\n",
       "    <tr>\n",
       "      <th>2</th>\n",
       "      <td>6.6</td>\n",
       "      <td>0.30</td>\n",
       "      <td>0.45</td>\n",
       "      <td>8.00</td>\n",
       "      <td>0.038</td>\n",
       "      <td>54.0</td>\n",
       "      <td>200.0</td>\n",
       "      <td>0.99560</td>\n",
       "      <td>3.18</td>\n",
       "      <td>0.48</td>\n",
       "      <td>9.5</td>\n",
       "    </tr>\n",
       "    <tr>\n",
       "      <th>3</th>\n",
       "      <td>7.5</td>\n",
       "      <td>0.58</td>\n",
       "      <td>0.14</td>\n",
       "      <td>2.20</td>\n",
       "      <td>0.077</td>\n",
       "      <td>27.0</td>\n",
       "      <td>60.0</td>\n",
       "      <td>0.99630</td>\n",
       "      <td>3.28</td>\n",
       "      <td>0.59</td>\n",
       "      <td>9.8</td>\n",
       "    </tr>\n",
       "    <tr>\n",
       "      <th>4</th>\n",
       "      <td>8.1</td>\n",
       "      <td>0.66</td>\n",
       "      <td>0.22</td>\n",
       "      <td>2.20</td>\n",
       "      <td>0.069</td>\n",
       "      <td>9.0</td>\n",
       "      <td>23.0</td>\n",
       "      <td>0.99680</td>\n",
       "      <td>3.30</td>\n",
       "      <td>1.20</td>\n",
       "      <td>10.3</td>\n",
       "    </tr>\n",
       "    <tr>\n",
       "      <th>...</th>\n",
       "      <td>...</td>\n",
       "      <td>...</td>\n",
       "      <td>...</td>\n",
       "      <td>...</td>\n",
       "      <td>...</td>\n",
       "      <td>...</td>\n",
       "      <td>...</td>\n",
       "      <td>...</td>\n",
       "      <td>...</td>\n",
       "      <td>...</td>\n",
       "      <td>...</td>\n",
       "    </tr>\n",
       "    <tr>\n",
       "      <th>5195</th>\n",
       "      <td>6.8</td>\n",
       "      <td>0.32</td>\n",
       "      <td>0.21</td>\n",
       "      <td>2.20</td>\n",
       "      <td>0.044</td>\n",
       "      <td>15.0</td>\n",
       "      <td>68.0</td>\n",
       "      <td>0.99320</td>\n",
       "      <td>3.17</td>\n",
       "      <td>0.39</td>\n",
       "      <td>9.4</td>\n",
       "    </tr>\n",
       "    <tr>\n",
       "      <th>5196</th>\n",
       "      <td>6.7</td>\n",
       "      <td>0.31</td>\n",
       "      <td>0.34</td>\n",
       "      <td>6.80</td>\n",
       "      <td>0.059</td>\n",
       "      <td>51.0</td>\n",
       "      <td>215.0</td>\n",
       "      <td>0.99538</td>\n",
       "      <td>3.33</td>\n",
       "      <td>0.56</td>\n",
       "      <td>10.3</td>\n",
       "    </tr>\n",
       "    <tr>\n",
       "      <th>5197</th>\n",
       "      <td>8.3</td>\n",
       "      <td>0.28</td>\n",
       "      <td>0.48</td>\n",
       "      <td>2.10</td>\n",
       "      <td>0.093</td>\n",
       "      <td>6.0</td>\n",
       "      <td>12.0</td>\n",
       "      <td>0.99408</td>\n",
       "      <td>3.26</td>\n",
       "      <td>0.62</td>\n",
       "      <td>12.4</td>\n",
       "    </tr>\n",
       "    <tr>\n",
       "      <th>5198</th>\n",
       "      <td>7.0</td>\n",
       "      <td>0.12</td>\n",
       "      <td>0.19</td>\n",
       "      <td>4.90</td>\n",
       "      <td>0.055</td>\n",
       "      <td>27.0</td>\n",
       "      <td>127.0</td>\n",
       "      <td>0.99530</td>\n",
       "      <td>3.29</td>\n",
       "      <td>0.41</td>\n",
       "      <td>9.4</td>\n",
       "    </tr>\n",
       "    <tr>\n",
       "      <th>5199</th>\n",
       "      <td>7.4</td>\n",
       "      <td>0.64</td>\n",
       "      <td>0.07</td>\n",
       "      <td>1.80</td>\n",
       "      <td>0.100</td>\n",
       "      <td>8.0</td>\n",
       "      <td>23.0</td>\n",
       "      <td>0.99610</td>\n",
       "      <td>3.30</td>\n",
       "      <td>0.58</td>\n",
       "      <td>9.6</td>\n",
       "    </tr>\n",
       "  </tbody>\n",
       "</table>\n",
       "<p>5200 rows × 11 columns</p>\n",
       "</div>"
      ],
      "text/plain": [
       "       0     1     2      3      4     5      6        7     8     9     10\n",
       "0     7.0  0.23  0.42  18.05  0.050  35.0  144.0  0.99990  3.22  0.42   8.8\n",
       "1     8.3  0.33  0.43   9.20  0.046  22.0  126.0  0.99820  3.38  0.47   9.3\n",
       "2     6.6  0.30  0.45   8.00  0.038  54.0  200.0  0.99560  3.18  0.48   9.5\n",
       "3     7.5  0.58  0.14   2.20  0.077  27.0   60.0  0.99630  3.28  0.59   9.8\n",
       "4     8.1  0.66  0.22   2.20  0.069   9.0   23.0  0.99680  3.30  1.20  10.3\n",
       "...   ...   ...   ...    ...    ...   ...    ...      ...   ...   ...   ...\n",
       "5195  6.8  0.32  0.21   2.20  0.044  15.0   68.0  0.99320  3.17  0.39   9.4\n",
       "5196  6.7  0.31  0.34   6.80  0.059  51.0  215.0  0.99538  3.33  0.56  10.3\n",
       "5197  8.3  0.28  0.48   2.10  0.093   6.0   12.0  0.99408  3.26  0.62  12.4\n",
       "5198  7.0  0.12  0.19   4.90  0.055  27.0  127.0  0.99530  3.29  0.41   9.4\n",
       "5199  7.4  0.64  0.07   1.80  0.100   8.0   23.0  0.99610  3.30  0.58   9.6\n",
       "\n",
       "[5200 rows x 11 columns]"
      ]
     },
     "execution_count": 21,
     "metadata": {},
     "output_type": "execute_result"
    }
   ],
   "source": [
    "# To observe the data we use pandas and load the data into dataframes\n",
    "x_df = pd.DataFrame(X)\n",
    "y_df = pd.DataFrame(Y)\n",
    "\n",
    "# How X looks:\n",
    "x_df"
   ]
  },
  {
   "cell_type": "code",
   "execution_count": 22,
   "metadata": {},
   "outputs": [
    {
     "data": {
      "text/html": [
       "<div>\n",
       "<style scoped>\n",
       "    .dataframe tbody tr th:only-of-type {\n",
       "        vertical-align: middle;\n",
       "    }\n",
       "\n",
       "    .dataframe tbody tr th {\n",
       "        vertical-align: top;\n",
       "    }\n",
       "\n",
       "    .dataframe thead th {\n",
       "        text-align: right;\n",
       "    }\n",
       "</style>\n",
       "<table border=\"1\" class=\"dataframe\">\n",
       "  <thead>\n",
       "    <tr style=\"text-align: right;\">\n",
       "      <th></th>\n",
       "      <th>0</th>\n",
       "    </tr>\n",
       "  </thead>\n",
       "  <tbody>\n",
       "    <tr>\n",
       "      <th>0</th>\n",
       "      <td>5</td>\n",
       "    </tr>\n",
       "    <tr>\n",
       "      <th>1</th>\n",
       "      <td>5</td>\n",
       "    </tr>\n",
       "    <tr>\n",
       "      <th>2</th>\n",
       "      <td>5</td>\n",
       "    </tr>\n",
       "    <tr>\n",
       "      <th>3</th>\n",
       "      <td>5</td>\n",
       "    </tr>\n",
       "    <tr>\n",
       "      <th>4</th>\n",
       "      <td>5</td>\n",
       "    </tr>\n",
       "    <tr>\n",
       "      <th>...</th>\n",
       "      <td>...</td>\n",
       "    </tr>\n",
       "    <tr>\n",
       "      <th>5195</th>\n",
       "      <td>6</td>\n",
       "    </tr>\n",
       "    <tr>\n",
       "      <th>5196</th>\n",
       "      <td>5</td>\n",
       "    </tr>\n",
       "    <tr>\n",
       "      <th>5197</th>\n",
       "      <td>7</td>\n",
       "    </tr>\n",
       "    <tr>\n",
       "      <th>5198</th>\n",
       "      <td>5</td>\n",
       "    </tr>\n",
       "    <tr>\n",
       "      <th>5199</th>\n",
       "      <td>5</td>\n",
       "    </tr>\n",
       "  </tbody>\n",
       "</table>\n",
       "<p>5200 rows × 1 columns</p>\n",
       "</div>"
      ],
      "text/plain": [
       "      0\n",
       "0     5\n",
       "1     5\n",
       "2     5\n",
       "3     5\n",
       "4     5\n",
       "...  ..\n",
       "5195  6\n",
       "5196  5\n",
       "5197  7\n",
       "5198  5\n",
       "5199  5\n",
       "\n",
       "[5200 rows x 1 columns]"
      ]
     },
     "execution_count": 22,
     "metadata": {},
     "output_type": "execute_result"
    }
   ],
   "source": [
    "# How Y looks:\n",
    "y_df"
   ]
  },
  {
   "cell_type": "code",
   "execution_count": 23,
   "metadata": {},
   "outputs": [
    {
     "name": "stdout",
     "output_type": "stream",
     "text": [
      "Unique values and their counts: {3: 24, 4: 176, 5: 1724, 6: 2272, 7: 846, 8: 154, 9: 4}\n"
     ]
    },
    {
     "data": {
      "image/png": "[encoded data removed]",
      "text/plain": [
       "<Figure size 640x480 with 1 Axes>"
      ]
     },
     "metadata": {},
     "output_type": "display_data"
    }
   ],
   "source": [
    "# Counting samples of each unique value in Y\n",
    "unique, counts = np.unique(Y, return_counts=True)\n",
    "print(f\"Unique values and their counts: {dict(zip(unique, counts))}\")\n",
    "plt.bar(unique, counts, color='skyblue', edgecolor='black')\n",
    "plt.xlabel('Unique Values')\n",
    "plt.ylabel('Counts')\n",
    "plt.title('Counts of Unique Values in Y')\n",
    "plt.show()"
   ]
  },
  {
   "cell_type": "markdown",
   "metadata": {},
   "source": [
    "### In the next section we include the essential functions which we used during the hands-on Lab assignments. We only apply small changes to fit the function to our current problem. For example, as we are using the Gaussian Kernel, there is no need for a variable kernel-type. We also add some functions that we use to accomplish classification using KRLS."
   ]
  },
  {
   "cell_type": "code",
   "execution_count": 24,
   "metadata": {},
   "outputs": [],
   "source": [
    "# the neccessary funcs as defined in the assignment:\n",
    "def calc_err(Ypred, Ytrue):\n",
    "    return np.mean((Ypred-Ytrue)**2)\n",
    "\n",
    "def squared_distances(X1, X2):\n",
    "    \"\"\"Compute the matrix of pairwise squared-distances between all points in X1 and in X2.\n",
    "    \"\"\"\n",
    "    return scipy.spatial.distance.cdist(X1, X2, metric='seuclidean')\n",
    "\n",
    "def Gaussian_Kernel(X1, X2, param):\n",
    "    # X1 : array of shape n x d\n",
    "    # X2 : array of shape m x d\n",
    "    lengthscale = param\n",
    "    sq_dists = squared_distances(X1, X2)\n",
    "    return np.exp(-sq_dists / (2 * (lengthscale ** 2)))\n",
    "\n",
    "def krls_train(x, y, reg_par, kernel_par):\n",
    "    n = x.shape[0]\n",
    "    K = Gaussian_Kernel(x, x, kernel_par)\n",
    "    K_reg = K + n * reg_par * np.eye(n)\n",
    "    w = np.linalg.solve(K_reg, y)\n",
    "    return w\n",
    "\n",
    "def krls_predict(x_ts, x_tr, w, kernel_par):\n",
    "    K_ts = Gaussian_Kernel(x_ts, x_tr, kernel_par)\n",
    "    return np.dot(K_ts, w)\n",
    "\n",
    "def encode_labels(Y):\n",
    "    \"\"\"Encode integer class labels into one-hot encoding.\"\"\"\n",
    "    encoder = OneHotEncoder(sparse_output=False)\n",
    "    return encoder.fit_transform(Y.reshape(-1, 1)), encoder\n",
    "\n",
    "def compute_probabilities(scores):\n",
    "    \"\"\"Convert raw scores to probabilities using the softmax function.\"\"\"\n",
    "    return softmax(scores, axis=1)"
   ]
  },
  {
   "cell_type": "markdown",
   "metadata": {},
   "source": [
    "#### Our proposed solution is:\n",
    "##### We train a KRLS model for each class using the samples provided for each class. Then we use the calcultaed weights for each class to predict the score for each class. Then we calculate the probabilities of a point belonging to each class. We consider the class with the highest probability as the final prediction of the model for that data point.\n",
    "#### We use Q-fold cross-validation to choose the best hyperparameters for the regularizer and the kernel."
   ]
  },
  {
   "cell_type": "code",
   "execution_count": 25,
   "metadata": {},
   "outputs": [],
   "source": [
    "def krls_kfold_valerr_multiclass(x_tr, y_tr, num_folds, reg_par, kernel_par):\n",
    "    \"\"\"\n",
    "    Compute the k-fold cross-validation error for one KRLS model (with speficied regularization, \n",
    "    kernel and kernel parameter).\n",
    "    \n",
    "    This function returns both the training errors and the validation errors \n",
    "    obtained from CV (as numpy arrays).\n",
    "    \"\"\"\n",
    "    if num_folds <= 1:\n",
    "        raise Exception(\"Please supply a number of folds > 1\")\n",
    "\n",
    "    n_tot = x_tr.shape[0]\n",
    "    n_val = int(n_tot // num_folds)\n",
    "    n_classes = y_tr.shape[1] # number of classes in one-hot encoding\n",
    "\n",
    "    tr_errs, val_errs = [], []\n",
    "\n",
    "    # `split_idx`: a list of arrays, each containing the validation indices for 1 fold\n",
    "    rand_idx = np.random.choice(n_tot, size=n_tot, replace=False)\n",
    "    split_idx = np.array_split(rand_idx, num_folds)\n",
    "\n",
    "    for fold in tqdm(range(num_folds),desc=f\"Processing folds (lambda={reg_par}, kernel_par={kernel_par})\"):\n",
    "        # Set the indices in boolean mask for all validation samples to `True`\n",
    "        val_mask = np.zeros(n_tot, dtype=bool)\n",
    "        val_mask[split_idx[fold]] = True\n",
    "        \n",
    "        kf_x_tr = x_tr[~val_mask]\n",
    "        kf_y_tr = y_tr[~val_mask]\n",
    "        kf_x_val = x_tr[val_mask]\n",
    "        kf_y_val = y_tr[val_mask]\n",
    "\n",
    "        # Traind and predict for each class\n",
    "        tr_scores, val_scores = [], []\n",
    "        for class_idx in tqdm(range(n_classes),desc=f\"Processing classes (fold={fold + 1})\", leave=False):\n",
    "            w_krls = krls_train(kf_x_tr, kf_y_tr[:, class_idx],reg_par=reg_par, kernel_par=kernel_par) # calculating weight for each class\n",
    "\n",
    "            tr_scores.append(krls_predict(kf_x_tr, kf_x_tr, w_krls, kernel_par=kernel_par)) # predicting for training data\n",
    "            val_scores.append(krls_predict(kf_x_val, kf_x_tr, w_krls, kernel_par=kernel_par)) # predicting for validation data\n",
    "        \n",
    "        tr_scores = np.stack(tr_scores, axis=1)\n",
    "        val_scores = np.stack(val_scores, axis=1)\n",
    "\n",
    "        tr_probs = compute_probabilities(tr_scores)\n",
    "        val_probs = compute_probabilities(val_scores)\n",
    "\n",
    "        # predict classes and calculate errors\n",
    "        tr_preds = np.argmax(tr_probs, axis=1)\n",
    "        val_preds = np.argmax(val_probs, axis=1)\n",
    "\n",
    "        # calculate errors\n",
    "        tr_errs.append(calc_err(tr_preds, np.argmax(kf_y_tr, axis=1)))\n",
    "        val_errs.append(calc_err(val_preds, np.argmax(kf_y_val, axis=1)))\n",
    "\n",
    "    return np.asarray(tr_errs), np.asarray(val_errs)\n"
   ]
  },
  {
   "cell_type": "code",
   "execution_count": 26,
   "metadata": {},
   "outputs": [],
   "source": [
    "def krls_kfoldcv_multiclass(x_tr, y_tr, num_folds, reg_par_list, kernel_par_list):\n",
    "    \"\"\"Choose the best parameters for both the regularizer and the kernel parameter according to K-Fold CV.\n",
    "    \"\"\"\n",
    "    Val_errors = np.zeros((len(reg_par_list), len(kernel_par_list)))\n",
    "    Tr_errors = np.zeros((len(reg_par_list), len(kernel_par_list)))\n",
    "    for i, reg_par in enumerate(reg_par_list):\n",
    "        for j, kernel_par in enumerate(kernel_par_list):\n",
    "            tr_error, val_error = krls_kfold_valerr_multiclass(x_tr, y_tr, num_folds, reg_par, kernel_par) # calculating training and validation error\n",
    "            Val_errors[i][j] = np.mean(val_error)\n",
    "            Tr_errors[i][j] = np.mean(tr_error)\n",
    "            print(f\"The Validation error for lambda={reg_par}, kernel-parameter={kernel_par} is {np.mean(val_error)*100:.2f}%\")\n",
    "            print(f\"The Train error for lambda={reg_par}, kernel-parameter={kernel_par} is {np.mean(tr_error)*100:.2f}%\")\n",
    "\n",
    "    best_reg_par = reg_par_list[np.unravel_index(np.argmin(Val_errors), Val_errors.shape)[0]]\n",
    "    best_kernel_par = kernel_par_list[np.unravel_index(np.argmin(Val_errors), Val_errors.shape)[1]]\n",
    "    best_err = np.min(Val_errors)\n",
    "    print(f\"The best error (MSE={best_err*100:.2f}%) was obtained with \"\n",
    "          f\"lambda={best_reg_par}, kernel-parameter={best_kernel_par}\")\n",
    "    return best_reg_par, best_kernel_par, best_err, Val_errors, Tr_errors"
   ]
  },
  {
   "cell_type": "markdown",
   "metadata": {},
   "source": [
    "#### First we obtained the Validaton error: 48.42% with best parameters lambda: 0.001 and Kernel parameter: 0.5. \n",
    "#### After consulting the error plots ( you can see these in the report) we decided to extend the range of our hyperparameters to include smaller values and trained and evaluated the model on this new range as well.\n",
    "#### The new error is at 44% making it a better result than the last one. Finally seeing as the error doesn not change with smaller values, we declare the new best hyperparametrs as our final ones."
   ]
  },
  {
   "cell_type": "code",
   "execution_count": 27,
   "metadata": {},
   "outputs": [
    {
     "name": "stdout",
     "output_type": "stream",
     "text": [
      "Starting K-Fold Cross Validation...\n"
     ]
    },
    {
     "name": "stderr",
     "output_type": "stream",
     "text": [
      "Processing folds (lambda=1e-05, kernel_par=0.1): 100%|██████████| 5/5 [00:57<00:00, 11.52s/it]\n"
     ]
    },
    {
     "name": "stdout",
     "output_type": "stream",
     "text": [
      "The Validation error for lambda=1e-05, kernel-parameter=0.1 is 468.65%\n",
      "The Train error for lambda=1e-05, kernel-parameter=0.1 is 0.00%\n"
     ]
    },
    {
     "name": "stderr",
     "output_type": "stream",
     "text": [
      "Processing folds (lambda=1e-05, kernel_par=0.5): 100%|██████████| 5/5 [00:48<00:00,  9.72s/it]\n"
     ]
    },
    {
     "name": "stdout",
     "output_type": "stream",
     "text": [
      "The Validation error for lambda=1e-05, kernel-parameter=0.5 is 46.79%\n",
      "The Train error for lambda=1e-05, kernel-parameter=0.5 is 0.00%\n"
     ]
    },
    {
     "name": "stderr",
     "output_type": "stream",
     "text": [
      "Processing folds (lambda=1e-05, kernel_par=1): 100%|██████████| 5/5 [00:45<00:00,  9.03s/it]\n"
     ]
    },
    {
     "name": "stdout",
     "output_type": "stream",
     "text": [
      "The Validation error for lambda=1e-05, kernel-parameter=1 is 48.04%\n",
      "The Train error for lambda=1e-05, kernel-parameter=1 is 0.00%\n"
     ]
    },
    {
     "name": "stderr",
     "output_type": "stream",
     "text": [
      "Processing folds (lambda=1e-05, kernel_par=2): 100%|██████████| 5/5 [00:48<00:00,  9.73s/it]\n"
     ]
    },
    {
     "name": "stdout",
     "output_type": "stream",
     "text": [
      "The Validation error for lambda=1e-05, kernel-parameter=2 is 48.44%\n",
      "The Train error for lambda=1e-05, kernel-parameter=2 is 0.00%\n"
     ]
    },
    {
     "name": "stderr",
     "output_type": "stream",
     "text": [
      "Processing folds (lambda=1e-05, kernel_par=10): 100%|██████████| 5/5 [00:43<00:00,  8.77s/it]\n"
     ]
    },
    {
     "name": "stdout",
     "output_type": "stream",
     "text": [
      "The Validation error for lambda=1e-05, kernel-parameter=10 is 53.81%\n",
      "The Train error for lambda=1e-05, kernel-parameter=10 is 40.23%\n"
     ]
    },
    {
     "name": "stderr",
     "output_type": "stream",
     "text": [
      "Processing folds (lambda=0.0001, kernel_par=0.1): 100%|██████████| 5/5 [00:55<00:00, 11.17s/it]\n"
     ]
    },
    {
     "name": "stdout",
     "output_type": "stream",
     "text": [
      "The Validation error for lambda=0.0001, kernel-parameter=0.1 is 480.52%\n",
      "The Train error for lambda=0.0001, kernel-parameter=0.1 is 0.00%\n"
     ]
    },
    {
     "name": "stderr",
     "output_type": "stream",
     "text": [
      "Processing folds (lambda=0.0001, kernel_par=0.5): 100%|██████████| 5/5 [00:41<00:00,  8.38s/it]\n"
     ]
    },
    {
     "name": "stdout",
     "output_type": "stream",
     "text": [
      "The Validation error for lambda=0.0001, kernel-parameter=0.5 is 46.10%\n",
      "The Train error for lambda=0.0001, kernel-parameter=0.5 is 0.00%\n"
     ]
    },
    {
     "name": "stderr",
     "output_type": "stream",
     "text": [
      "Processing folds (lambda=0.0001, kernel_par=1): 100%|██████████| 5/5 [00:47<00:00,  9.47s/it]\n"
     ]
    },
    {
     "name": "stdout",
     "output_type": "stream",
     "text": [
      "The Validation error for lambda=0.0001, kernel-parameter=1 is 46.71%\n",
      "The Train error for lambda=0.0001, kernel-parameter=1 is 0.38%\n"
     ]
    },
    {
     "name": "stderr",
     "output_type": "stream",
     "text": [
      "Processing folds (lambda=0.0001, kernel_par=2): 100%|██████████| 5/5 [00:52<00:00, 10.57s/it]\n"
     ]
    },
    {
     "name": "stdout",
     "output_type": "stream",
     "text": [
      "The Validation error for lambda=0.0001, kernel-parameter=2 is 50.79%\n",
      "The Train error for lambda=0.0001, kernel-parameter=2 is 22.70%\n"
     ]
    },
    {
     "name": "stderr",
     "output_type": "stream",
     "text": [
      "Processing folds (lambda=0.0001, kernel_par=10): 100%|██████████| 5/5 [00:47<00:00,  9.51s/it]\n"
     ]
    },
    {
     "name": "stdout",
     "output_type": "stream",
     "text": [
      "The Validation error for lambda=0.0001, kernel-parameter=10 is 58.79%\n",
      "The Train error for lambda=0.0001, kernel-parameter=10 is 56.32%\n"
     ]
    },
    {
     "name": "stderr",
     "output_type": "stream",
     "text": [
      "Processing folds (lambda=0.001, kernel_par=0.1): 100%|██████████| 5/5 [00:58<00:00, 11.79s/it]\n"
     ]
    },
    {
     "name": "stdout",
     "output_type": "stream",
     "text": [
      "The Validation error for lambda=0.001, kernel-parameter=0.1 is 493.85%\n",
      "The Train error for lambda=0.001, kernel-parameter=0.1 is 0.00%\n"
     ]
    },
    {
     "name": "stderr",
     "output_type": "stream",
     "text": [
      "Processing folds (lambda=0.001, kernel_par=0.5): 100%|██████████| 5/5 [00:42<00:00,  8.45s/it]\n"
     ]
    },
    {
     "name": "stdout",
     "output_type": "stream",
     "text": [
      "The Validation error for lambda=0.001, kernel-parameter=0.5 is 48.67%\n",
      "The Train error for lambda=0.001, kernel-parameter=0.5 is 11.00%\n"
     ]
    },
    {
     "name": "stderr",
     "output_type": "stream",
     "text": [
      "Processing folds (lambda=0.001, kernel_par=1): 100%|██████████| 5/5 [00:42<00:00,  8.57s/it]\n"
     ]
    },
    {
     "name": "stdout",
     "output_type": "stream",
     "text": [
      "The Validation error for lambda=0.001, kernel-parameter=1 is 54.54%\n",
      "The Train error for lambda=0.001, kernel-parameter=1 is 40.81%\n"
     ]
    },
    {
     "name": "stderr",
     "output_type": "stream",
     "text": [
      "Processing folds (lambda=0.001, kernel_par=2): 100%|██████████| 5/5 [00:43<00:00,  8.70s/it]\n"
     ]
    },
    {
     "name": "stdout",
     "output_type": "stream",
     "text": [
      "The Validation error for lambda=0.001, kernel-parameter=2 is 56.60%\n",
      "The Train error for lambda=0.001, kernel-parameter=2 is 52.02%\n"
     ]
    },
    {
     "name": "stderr",
     "output_type": "stream",
     "text": [
      "Processing folds (lambda=0.001, kernel_par=10): 100%|██████████| 5/5 [00:47<00:00,  9.40s/it]"
     ]
    },
    {
     "name": "stdout",
     "output_type": "stream",
     "text": [
      "The Validation error for lambda=0.001, kernel-parameter=10 is 66.71%\n",
      "The Train error for lambda=0.001, kernel-parameter=10 is 66.38%\n",
      "The best error (MSE=46.10%) was obtained with lambda=0.0001, kernel-parameter=0.5\n",
      "\n",
      "Best parameters found: \n",
      " Regularization parameter: 0.0001 \n",
      " Kernel parameter: 0.5\n",
      "Cross Validation error: 46.10%\n"
     ]
    },
    {
     "name": "stderr",
     "output_type": "stream",
     "text": [
      "\n"
     ]
    }
   ],
   "source": [
    "# Data Standardization\n",
    "scaler = StandardScaler()\n",
    "X_standardized = scaler.fit_transform(X)\n",
    "\n",
    "# Encoding Y into one-hot\n",
    "Y_encoded, encoder = encode_labels(Y)\n",
    "\n",
    "# small hyperparameter list\n",
    "# reg_par_list = [1e-2, 10]\n",
    "# kernel_par_list = [0.5, 1, 2]\n",
    "# num_folds = 3\n",
    "\n",
    "# Define parameter ranges\n",
    "# reg_par_list = [1e-3, 1e-2, 1e-1, 1, 10, 100, 1000, 2000]\n",
    "# kernel_par_list = [0.1, 0.5, 1, 2, 10, 20]\n",
    "# num_folds = 5\n",
    "\n",
    "# trying smaller reg_par\n",
    "reg_par_list = [1e-5,1e-4,1e-3]\n",
    "kernel_par_list = [0.1, 0.5, 1, 2, 10]\n",
    "num_folds = 5\n",
    "\n",
    "# perform KF_CV_multiclass to find the best parameters for \n",
    "print(\"Starting K-Fold Cross Validation...\")\n",
    "best_reg_par, best_kernel_par, best_err, Val_erros, Tr_erros = krls_kfoldcv_multiclass(X_standardized, Y_encoded, num_folds, reg_par_list, kernel_par_list)\n",
    "\n",
    "# train final model\n",
    "print(f\"\\nBest parameters found: \\n Regularization parameter: {best_reg_par} \\n Kernel parameter: {best_kernel_par}\")\n",
    "print(f\"Cross Validation error: {best_err*100:.2f}%\")\n"
   ]
  },
  {
   "cell_type": "code",
   "execution_count": null,
   "metadata": {},
   "outputs": [
    {
     "data": {
      "image/png": "[encoded data removed]",
      "text/plain": [
       "<Figure size 1400x600 with 2 Axes>"
      ]
     },
     "metadata": {},
     "output_type": "display_data"
    }
   ],
   "source": [
    "import numpy as np\n",
    "import matplotlib.pyplot as plt\n",
    "from mpl_toolkits.mplot3d import Axes3D\n",
    "\n",
    "reg_par_values = np.array(reg_par_list)\n",
    "kernel_par_values = np.array(kernel_par_list)\n",
    "validation_errors = np.array(Val_erros)\n",
    "train_errors = np.array(Tr_erros)\n",
    "\n",
    "# 1. Line Graphs\n",
    "fixed_kernel_index = 1  # Corresponds to kernel_par = 0.5\n",
    "fixed_reg_index = 2  # Corresponds to reg_par = 0.1\n",
    "\n",
    "plt.figure(figsize=(14, 6))\n",
    "\n",
    "# Line graph for reg_par\n",
    "plt.subplot(1, 2, 1)\n",
    "plt.plot(reg_par_values, validation_errors[:, fixed_kernel_index], label=\"Validation Error\", marker='o')\n",
    "plt.plot(reg_par_values, train_errors[:, fixed_kernel_index], label=\"Training Error\", marker='o')\n",
    "plt.title(f\"Error vs. reg_par (kernel_par={kernel_par_values[fixed_kernel_index]})\", fontsize=14)\n",
    "plt.xlabel(\"Regularization Parameter (reg_par)\", fontsize=12)\n",
    "plt.ylabel(\"Error (%)\", fontsize=12)\n",
    "plt.legend()\n",
    "plt.xscale(\"log\")\n",
    "\n",
    "# Line graph for kernel_par\n",
    "plt.subplot(1, 2, 2)\n",
    "plt.plot(kernel_par_values, validation_errors[fixed_reg_index, :], label=\"Validation Error\", marker='o')\n",
    "plt.plot(kernel_par_values, train_errors[fixed_reg_index, :], label=\"Training Error\", marker='o')\n",
    "plt.title(f\"Error vs. kernel_par (reg_par={reg_par_values[fixed_reg_index]})\", fontsize=14)\n",
    "plt.xlabel(\"Kernel Parameter (kernel_par)\", fontsize=12)\n",
    "plt.ylabel(\"Error (%)\", fontsize=12)\n",
    "plt.legend()\n",
    "plt.tight_layout()\n",
    "plt.show()\n"
   ]
  },
  {
   "cell_type": "markdown",
   "metadata": {},
   "source": [
    "### now we do one final training using our best parameters"
   ]
  },
  {
   "cell_type": "code",
   "execution_count": 28,
   "metadata": {},
   "outputs": [
    {
     "name": "stdout",
     "output_type": "stream",
     "text": [
      "Training the final model with best parameters...\n"
     ]
    },
    {
     "name": "stderr",
     "output_type": "stream",
     "text": [
      "Training for each class: 100%|██████████| 7/7 [00:06<00:00,  1.14it/s]\n"
     ]
    },
    {
     "name": "stdout",
     "output_type": "stream",
     "text": [
      "\n",
      "Final validation error using best parameters: 44.13%\n"
     ]
    }
   ],
   "source": [
    "# Final training and validation using the best parameters\n",
    "from sklearn.model_selection import train_test_split\n",
    "\n",
    "# Split data into train and validation sets\n",
    "X_train, X_val, Y_train, Y_val = train_test_split(X_standardized, Y_encoded, test_size=0.2, random_state=42)\n",
    "\n",
    "# Train the final model\n",
    "n_classes = Y_encoded.shape[1] # number of classes\n",
    "final_weights = []\n",
    "\n",
    "best_reg_par = 1e-5\n",
    "best_kernel_par = 0.5\n",
    "print(\"Training the final model with best parameters...\")\n",
    "for class_idx in tqdm(range(n_classes), desc=\"Training for each class\"):\n",
    "    w_final = krls_train(X_train, Y_train[:, class_idx], reg_par=best_reg_par, kernel_par=best_kernel_par)\n",
    "    final_weights.append(w_final)\n",
    "\n",
    "final_weights = np.stack(final_weights, axis=1)\n",
    "\n",
    "\n",
    "class_scores = []\n",
    "\n",
    "for class_idx in range(final_weights.shape[1]):\n",
    "    # extract the weights for current class\n",
    "    class_weights = final_weights[:, class_idx]\n",
    "\n",
    "    # predict the score for the corrent class using the weights\n",
    "    class_score = krls_predict(X_val, X_train, class_weights, kernel_par=best_kernel_par)\n",
    "\n",
    "    # Append the predicted scores to the list\n",
    "    class_scores.append(class_score)\n",
    "\n",
    "# Stack the scores for all classes into a single array\n",
    "final_scores_val = np.stack(class_scores, axis=1)\n",
    "\n",
    "# Compute probabilities using softmax\n",
    "final_probs_val = compute_probabilities(final_scores_val)\n",
    "\n",
    "# Predict classes\n",
    "final_preds_val = np.argmax(final_probs_val, axis=1)\n",
    "true_classes_val = np.argmax(Y_val, axis=1)\n",
    "\n",
    "# Compute the final validation error\n",
    "final_val_err = calc_err(final_preds_val, true_classes_val)\n",
    "\n",
    "print(f\"\\nFinal validation error using best parameters: {final_val_err * 100:.2f}%\")\n"
   ]
  },
  {
   "cell_type": "markdown",
   "metadata": {},
   "source": [
    "#### Test Cell: \n",
    "##### Please load the testing dataset using the code cell below:"
   ]
  },
  {
   "cell_type": "code",
   "execution_count": 15,
   "metadata": {},
   "outputs": [
    {
     "name": "stdout",
     "output_type": "stream",
     "text": [
      "Shape: (5200, 11), Data type: float64\n",
      "Shape: (5200, 1), Data type: int64\n",
      "Predicting test data...\n",
      "\n",
      "Final test error using best parameters: 8.83%\n"
     ]
    }
   ],
   "source": [
    "Xte = np.load(\"testing_X.npy\")\n",
    "Yte = np.load(\"testing_Y.npy\")\n",
    "\n",
    "print(f\"Shape: {Xte.shape}, Data type: {Xte.dtype}\")\n",
    "print(f\"Shape: {Yte.shape}, Data type: {Yte.dtype}\")\n",
    "\n",
    "# Standardization of the data\n",
    "Xte_standardized = scaler.fit_transform(Xte)\n",
    "\n",
    "# Encoding Y into one-hot\n",
    "Yte_encoded, te_encoder = encode_labels(Yte)\n",
    "\n",
    "test_class_scores = []\n",
    "\n",
    "# Predicting scores for each class\n",
    "print(\"Predicting test data...\")\n",
    "for class_idx in range(final_weights.shape[1]):\n",
    "    # Calculating the weights for each class\n",
    "    class_weights = final_weights[:, class_idx]\n",
    "    \n",
    "    # Predicting the score for the current class\n",
    "    test_class_score = krls_predict(Xte_standardized, X_train, class_weights, kernel_par=best_kernel_par)\n",
    "    test_class_scores.append(test_class_score)\n",
    "\n",
    "# Stack the scores for all classes into a single array\n",
    "final_scores_test = np.stack(test_class_scores, axis=1)\n",
    "\n",
    "# Compute probabilities using softmax\n",
    "final_probs_test = compute_probabilities(final_scores_test)\n",
    "\n",
    "# Predict classes\n",
    "final_preds_test = np.argmax(final_probs_test, axis=1)\n",
    "true_classes_test = np.argmax(Yte_encoded, axis=1)\n",
    "\n",
    "# Compute the final test error\n",
    "final_test_err = calc_err(final_preds_test, true_classes_test)\n",
    "\n",
    "print(f\"\\nFinal test error using best parameters: {final_test_err * 100:.2f}%\")"
   ]
  }
 ],
 "metadata": {
  "kernelspec": {
   "display_name": "Python 3",
   "language": "python",
   "name": "python3"
  },
  "language_info": {
   "codemirror_mode": {
    "name": "ipython",
    "version": 3
   },
   "file_extension": ".py",
   "mimetype": "text/x-python",
   "name": "python",
   "nbconvert_exporter": "python",
   "pygments_lexer": "ipython3",
   "version": "3.11.3"
  }
 },
 "nbformat": 4,
 "nbformat_minor": 2
}
